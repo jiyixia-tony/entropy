{
  "nbformat": 4,
  "nbformat_minor": 0,
  "metadata": {
    "colab": {
      "name": "MBA6693_3664862_C02.ipynb",
      "provenance": []
    },
    "kernelspec": {
      "name": "ir",
      "display_name": "R"
    }
  },
  "cells": [
    {
      "cell_type": "code",
      "metadata": {
        "id": "qRXTj5d1gBAX"
      },
      "source": [
        "# Import Packages\r\n",
        "library(rpart)\r\n",
        "library(ggplot2)"
      ],
      "execution_count": 1,
      "outputs": []
    },
    {
      "cell_type": "code",
      "metadata": {
        "id": "4lWzucBwgS-p"
      },
      "source": [
        "# creating data with weather data on Outlook, Temperature, Humidity and Wind as independent variable \r\n",
        "# and whether golfer will play golf or not as dependent variable ####\r\n",
        "mydf <- data.frame(\r\n",
        "  Outlook = c(\"Rainy\", \"Rainy\", \"Overcast\", \"Sunny\", \"Sunny\", \"Sunny\", \"Overcast\", \"Rainy\", \"Rainy\", \"Sunny\", \"Rainy\", \"Overcast\", \"Overcast\", \"Sunny\"),\r\n",
        "  Temp = c(\"Hot\", \"Hot\", \"Hot\", \"Mild\", \"Cool\", \"Cool\", \"Cool\", \"Mild\", \"Cool\", \"Mild\", \"Mild\", \"Mild\", \"Hot\", \"Mild\"),\r\n",
        "  Humidity = c(\"High\", \"High\", \"High\", \"High\", \"Normal\", \"Normal\", \"Normal\", \"High\", \"Normal\", \"Normal\", \"Normal\", \"High\", \"Normal\", \"High\"),\r\n",
        "  Windy = c(\"False\", \"True\", \"False\", \"False\", \"False\", \"True\", \"True\", \"False\", \"False\", \"False\", \"True\", \"True\", \"False\", \"True\"),\r\n",
        "  PlaysGolf = c(\"No\", \"No\", \"Yes\", \"Yes\", \"Yes\", \"No\", \"Yes\", \"No\", \"Yes\", \"Yes\", \"Yes\", \"Yes\", \"Yes\", \"No\")\r\n",
        ")"
      ],
      "execution_count": 2,
      "outputs": []
    },
    {
      "cell_type": "code",
      "metadata": {
        "colab": {
          "base_uri": "https://localhost:8080/",
          "height": 204
        },
        "id": "splnDDTwhJ4N",
        "outputId": "ddeace84-2526-486d-e90a-7c6a87d34533"
      },
      "source": [
        "head(mydf)"
      ],
      "execution_count": 6,
      "outputs": [
        {
          "output_type": "display_data",
          "data": {
            "text/plain": [
              "  Outlook  Temp Humidity Windy PlaysGolf\n",
              "1 Rainy    Hot  High     False No       \n",
              "2 Rainy    Hot  High     True  No       \n",
              "3 Overcast Hot  High     False Yes      \n",
              "4 Sunny    Mild High     False Yes      \n",
              "5 Sunny    Cool Normal   False Yes      \n",
              "6 Sunny    Cool Normal   True  No       "
            ],
            "text/latex": "A data.frame: 6 × 5\n\\begin{tabular}{r|lllll}\n  & Outlook & Temp & Humidity & Windy & PlaysGolf\\\\\n  & <chr> & <chr> & <chr> & <chr> & <chr>\\\\\n\\hline\n\t1 & Rainy    & Hot  & High   & False & No \\\\\n\t2 & Rainy    & Hot  & High   & True  & No \\\\\n\t3 & Overcast & Hot  & High   & False & Yes\\\\\n\t4 & Sunny    & Mild & High   & False & Yes\\\\\n\t5 & Sunny    & Cool & Normal & False & Yes\\\\\n\t6 & Sunny    & Cool & Normal & True  & No \\\\\n\\end{tabular}\n",
            "text/markdown": "\nA data.frame: 6 × 5\n\n| <!--/--> | Outlook &lt;chr&gt; | Temp &lt;chr&gt; | Humidity &lt;chr&gt; | Windy &lt;chr&gt; | PlaysGolf &lt;chr&gt; |\n|---|---|---|---|---|---|\n| 1 | Rainy    | Hot  | High   | False | No  |\n| 2 | Rainy    | Hot  | High   | True  | No  |\n| 3 | Overcast | Hot  | High   | False | Yes |\n| 4 | Sunny    | Mild | High   | False | Yes |\n| 5 | Sunny    | Cool | Normal | False | Yes |\n| 6 | Sunny    | Cool | Normal | True  | No  |\n\n",
            "text/html": [
              "<table>\n",
              "<caption>A data.frame: 6 × 5</caption>\n",
              "<thead>\n",
              "\t<tr><th></th><th scope=col>Outlook</th><th scope=col>Temp</th><th scope=col>Humidity</th><th scope=col>Windy</th><th scope=col>PlaysGolf</th></tr>\n",
              "\t<tr><th></th><th scope=col>&lt;chr&gt;</th><th scope=col>&lt;chr&gt;</th><th scope=col>&lt;chr&gt;</th><th scope=col>&lt;chr&gt;</th><th scope=col>&lt;chr&gt;</th></tr>\n",
              "</thead>\n",
              "<tbody>\n",
              "\t<tr><th scope=row>1</th><td>Rainy   </td><td>Hot </td><td>High  </td><td>False</td><td>No </td></tr>\n",
              "\t<tr><th scope=row>2</th><td>Rainy   </td><td>Hot </td><td>High  </td><td>True </td><td>No </td></tr>\n",
              "\t<tr><th scope=row>3</th><td>Overcast</td><td>Hot </td><td>High  </td><td>False</td><td>Yes</td></tr>\n",
              "\t<tr><th scope=row>4</th><td>Sunny   </td><td>Mild</td><td>High  </td><td>False</td><td>Yes</td></tr>\n",
              "\t<tr><th scope=row>5</th><td>Sunny   </td><td>Cool</td><td>Normal</td><td>False</td><td>Yes</td></tr>\n",
              "\t<tr><th scope=row>6</th><td>Sunny   </td><td>Cool</td><td>Normal</td><td>True </td><td>No </td></tr>\n",
              "</tbody>\n",
              "</table>\n"
            ]
          },
          "metadata": {
            "tags": []
          }
        }
      ]
    },
    {
      "cell_type": "code",
      "metadata": {
        "colab": {
          "base_uri": "https://localhost:8080/",
          "height": 51
        },
        "id": "WmNc6t0ygW65",
        "outputId": "9cba9b65-368b-4d22-b16a-9a7031fb5047"
      },
      "source": [
        "# What attribute should we use first to begin splitting our data? \r\n",
        "# We need to understand Entropy and Information Gain.\r\n",
        "\r\n",
        "# Entropy tells us how pure of impure is a subset named S. This is the formula:\r\n",
        "# E(S) = -p(+) log2 p(+) - p(-) log2 p(-)\r\n",
        "# S = subset of training examples\r\n",
        "# p(+) and p(-) = % of positve / negative examples in S\r\n",
        "# It will be 0 for a pure set and 1 for a totally impure set (split 50/50)\r\n",
        "  # totally impure set (3 yes / 3 no):\r\n",
        "  -(3/6) * log(3/6, base = 2) - (3/6) * log(3/6, base = 2) # Entropy = 1\r\n",
        "  # pure set (4 yes / 0 no):\r\n",
        "  -(4/4) * log(4/4, base = 2) - (0/4) * log(0/4, base = 2) # Entropy = NaN = 0"
      ],
      "execution_count": 3,
      "outputs": [
        {
          "output_type": "display_data",
          "data": {
            "text/plain": [
              "[1] 1"
            ],
            "text/latex": "1",
            "text/markdown": "1",
            "text/html": [
              "1"
            ]
          },
          "metadata": {
            "tags": []
          }
        },
        {
          "output_type": "display_data",
          "data": {
            "text/plain": [
              "[1] NaN"
            ],
            "text/latex": "NaN",
            "text/markdown": "NaN",
            "text/html": [
              "NaN"
            ]
          },
          "metadata": {
            "tags": []
          }
        }
      ]
    },
    {
      "cell_type": "code",
      "metadata": {
        "colab": {
          "base_uri": "https://localhost:8080/",
          "height": 68
        },
        "id": "W6Ej6cYEgX95",
        "outputId": "32f09802-60c6-4659-961f-dcc14505a30b"
      },
      "source": [
        "# We will write a function for entropy, so it's easier to calculate:\r\n",
        "entropy <- function(p){\r\n",
        "  ifelse(p==0|p==1, 0, -(p) * log(p, base = 2) - (1-p) * log(1-p, base = 2)) # we need to manually set values for p = 0 and p = 1, otherwise we'll get Nan\r\n",
        "}\r\n",
        "  #Checking our function:\r\n",
        "  entropy(0) # pure set = 0\r\n",
        "  entropy(0.5) # 50/50 split set = 1\r\n",
        "  entropy(1) # pure set = 0"
      ],
      "execution_count": 4,
      "outputs": [
        {
          "output_type": "display_data",
          "data": {
            "text/plain": [
              "[1] 0"
            ],
            "text/latex": "0",
            "text/markdown": "0",
            "text/html": [
              "0"
            ]
          },
          "metadata": {
            "tags": []
          }
        },
        {
          "output_type": "display_data",
          "data": {
            "text/plain": [
              "[1] 1"
            ],
            "text/latex": "1",
            "text/markdown": "1",
            "text/html": [
              "1"
            ]
          },
          "metadata": {
            "tags": []
          }
        },
        {
          "output_type": "display_data",
          "data": {
            "text/plain": [
              "[1] 0"
            ],
            "text/latex": "0",
            "text/markdown": "0",
            "text/html": [
              "0"
            ]
          },
          "metadata": {
            "tags": []
          }
        }
      ]
    },
    {
      "cell_type": "code",
      "metadata": {
        "colab": {
          "base_uri": "https://localhost:8080/",
          "height": 437
        },
        "id": "RvRywHU1g-dS",
        "outputId": "55ac4130-5bba-4cfa-97a1-343739bfe574"
      },
      "source": [
        "#Plotting our function:\r\n",
        "  x <- seq(from = 0, to = 1, by = 0.001)\r\n",
        "  entX <- data.frame(\r\n",
        "    x = x,\r\n",
        "    entropyX = entropy(x)\r\n",
        "  )\r\n",
        "  ggplot(data = entX, aes(x, entropyX)) +\r\n",
        "    geom_line()\r\n"
      ],
      "execution_count": 5,
      "outputs": [
        {
          "output_type": "display_data",
          "data": {
            "image/png": "[encoded data removed]",
            "text/plain": [
              "plot without title"
            ]
          },
          "metadata": {
            "tags": [],
            "image/png": {
              "width": 420,
              "height": 420
            }
          }
        }
      ]
    },
    {
      "cell_type": "code",
      "metadata": {
        "colab": {
          "base_uri": "https://localhost:8080/",
          "height": 85
        },
        "id": "6B7ggnwNhias",
        "outputId": "37e3a7d8-c10d-4cf1-b7fc-7d7f85cfd499"
      },
      "source": [
        "# The entropy for the initial node is:\r\n",
        "table(mydf$PlaysGolf)\r\n",
        "  #PNo Yes \r\n",
        "  # 5   9\r\n",
        "    print(ePlaysGolf <- entropy(9/14)) # 0.940286"
      ],
      "execution_count": 7,
      "outputs": [
        {
          "output_type": "display_data",
          "data": {
            "text/plain": [
              "\n",
              " No Yes \n",
              "  5   9 "
            ]
          },
          "metadata": {
            "tags": []
          }
        },
        {
          "output_type": "stream",
          "text": [
            "[1] 0.940286\n"
          ],
          "name": "stdout"
        }
      ]
    },
    {
      "cell_type": "code",
      "metadata": {
        "colab": {
          "base_uri": "https://localhost:8080/",
          "height": 85
        },
        "id": "9PlXXlKLhzBC",
        "outputId": "7b1be375-2293-4637-f979-3103b148d436"
      },
      "source": [
        "# Let's calculate entropy for two attributes\r\n",
        "# We do it by taking the weighted average of the entropy for each branch. \r\n",
        "# The weight is the size of this subset divided by the overall number of examples\r\n",
        "  \r\n",
        "# PlaysGolf - Outlook\r\n",
        "  table(mydf$PlaysGolf, mydf$Outlook)\r\n",
        "  # PlaysGolf   Overcast Rainy Sunny\r\n",
        "  # No          0        3     2\r\n",
        "  # Yes         4        2     3\r\n",
        "  eOvercast <- entropy(4/4) # 0\r\n",
        "  eRainy <- entropy(2/5) # 0.971\r\n",
        "  eSunny <- entropy(3/5) # 0.971\r\n",
        "  \r\n",
        "  ePlayOutlook <- 4/14 * eOvercast + 5/14 * eRainy + 5/14 * eSunny #0.6935361"
      ],
      "execution_count": 8,
      "outputs": [
        {
          "output_type": "display_data",
          "data": {
            "text/plain": [
              "     \n",
              "      Overcast Rainy Sunny\n",
              "  No         0     3     2\n",
              "  Yes        4     2     3"
            ]
          },
          "metadata": {
            "tags": []
          }
        }
      ]
    },
    {
      "cell_type": "code",
      "metadata": {
        "colab": {
          "base_uri": "https://localhost:8080/",
          "height": 85
        },
        "id": "IoHHS2t8h22g",
        "outputId": "ef56b7ba-819f-47f3-ff7f-407ce4a47cb4"
      },
      "source": [
        "# PlaysGolf - Wind\r\n",
        "  table(mydf$PlaysGolf, mydf$Wind)\r\n",
        "  # PlaysGolf   False True\r\n",
        "  # No          2     3\r\n",
        "  # Yes         6     3\r\n",
        "  eWindF <- entropy(6/8) # 0.8112781\r\n",
        "  eWindT <- entropy(3/6) # 1\r\n",
        "  \r\n",
        "    ePlayWind <- 8/14 * eWindF + 6/14 * eWindT #0.8921589"
      ],
      "execution_count": 9,
      "outputs": [
        {
          "output_type": "display_data",
          "data": {
            "text/plain": [
              "     \n",
              "      False True\n",
              "  No      2    3\n",
              "  Yes     6    3"
            ]
          },
          "metadata": {
            "tags": []
          }
        }
      ]
    },
    {
      "cell_type": "code",
      "metadata": {
        "colab": {
          "base_uri": "https://localhost:8080/",
          "height": 85
        },
        "id": "c4KQAEuCioar",
        "outputId": "c4b6264f-3719-4eb8-9f8b-f6f3db53f0c0"
      },
      "source": [
        "# PlaysGolf - Temp\r\n",
        "  table(mydf$PlaysGolf, mydf$Temp)\r\n",
        "  # PlaysGolf Cool Hot Mild\r\n",
        "  # No        1   2    2\r\n",
        "  # Yes       3   2    4\r\n",
        "  \r\n",
        "  eCool <- entropy(3/4) # 0.8112781\r\n",
        "  eHot <- entropy(2/4) # 1\r\n",
        "  eMild <- entropy(4/6) # 0.9182958\r\n",
        "  \r\n",
        "    ePlayTemp <- 4/14 * eCool + 4/14 * eHot + 6/14 * eMild #0.9110634"
      ],
      "execution_count": 10,
      "outputs": [
        {
          "output_type": "display_data",
          "data": {
            "text/plain": [
              "     \n",
              "      Cool Hot Mild\n",
              "  No     1   2    2\n",
              "  Yes    3   2    4"
            ]
          },
          "metadata": {
            "tags": []
          }
        }
      ]
    },
    {
      "cell_type": "code",
      "metadata": {
        "colab": {
          "base_uri": "https://localhost:8080/",
          "height": 85
        },
        "id": "I1ucWHygiqGM",
        "outputId": "ada01eeb-3bb9-4a0f-a20d-ee5ae994eeb3"
      },
      "source": [
        "# PlaysGolf - Humidity\r\n",
        "  table(mydf$PlaysGolf, mydf$Humidity)\r\n",
        "  # PlaysGolf High  Normal \r\n",
        "  # No        4     1  \r\n",
        "  # Yes       3     6\r\n",
        "    \r\n",
        "    eHighHum <- entropy(3/7) # 0.9852281\r\n",
        "    eNormalHum <- entropy(6/7) # 0.5916728\r\n",
        "\r\n",
        "    ePlayHum <- 8/14 * eHighHum + 6/14 * eNormalHum #0.8165616"
      ],
      "execution_count": 11,
      "outputs": [
        {
          "output_type": "display_data",
          "data": {
            "text/plain": [
              "     \n",
              "      High Normal\n",
              "  No     4      1\n",
              "  Yes    3      6"
            ]
          },
          "metadata": {
            "tags": []
          }
        }
      ]
    },
    {
      "cell_type": "code",
      "metadata": {
        "colab": {
          "base_uri": "https://localhost:8080/",
          "height": 85
        },
        "id": "KlZ3bm11ivF3",
        "outputId": "ad483418-071d-4e78-aa26-0584c10f5f6f"
      },
      "source": [
        "# Information Gain: is the decrease in entropy for a split.\r\n",
        "    # Gain(T, X) = Entropy(T) - Entropy(T, X)\r\n",
        "    ePlaysGolf - ePlayOutlook # 0.2467498\r\n",
        "    ePlaysGolf - ePlayWind # 0.04812703\r\n",
        "    ePlaysGolf - ePlayTemp # 0.02922257\r\n",
        "    ePlaysGolf - ePlayHum # 0.1237244"
      ],
      "execution_count": 12,
      "outputs": [
        {
          "output_type": "display_data",
          "data": {
            "text/plain": [
              "[1] 0.2467498"
            ],
            "text/latex": "0.246749819774439",
            "text/markdown": "0.246749819774439",
            "text/html": [
              "0.246749819774439"
            ]
          },
          "metadata": {
            "tags": []
          }
        },
        {
          "output_type": "display_data",
          "data": {
            "text/plain": [
              "[1] 0.04812703"
            ],
            "text/latex": "0.0481270304082693",
            "text/markdown": "0.0481270304082693",
            "text/html": [
              "0.0481270304082693"
            ]
          },
          "metadata": {
            "tags": []
          }
        },
        {
          "output_type": "display_data",
          "data": {
            "text/plain": [
              "[1] 0.02922257"
            ],
            "text/latex": "0.0292225656589546",
            "text/markdown": "0.0292225656589546",
            "text/html": [
              "0.0292225656589546"
            ]
          },
          "metadata": {
            "tags": []
          }
        },
        {
          "output_type": "display_data",
          "data": {
            "text/plain": [
              "[1] 0.1237244"
            ],
            "text/latex": "0.12372440440149",
            "text/markdown": "0.12372440440149",
            "text/html": [
              "0.12372440440149"
            ]
          },
          "metadata": {
            "tags": []
          }
        }
      ]
    },
    {
      "cell_type": "code",
      "metadata": {
        "colab": {
          "base_uri": "https://localhost:8080/",
          "height": 323
        },
        "id": "Cx6LTEhmi02H",
        "outputId": "d97ca1f3-3281-4724-dc73-3ab61213456e"
      },
      "source": [
        "# We now pick the attribute with the largest information gain: Outlook. \r\n",
        "# We make the split and we repeat the process for all the branches \r\n",
        "# (except for those ones that have entropy = 0, that become final nodes - also called leaves)\r\n",
        "\r\n",
        "# We can now fit a decision tree to the data, to see how the first split is indeed Outlook\r\n",
        "    \r\n",
        "# Note: for now we use rpart, but it'd be nice to use an implementation of id3 in r\r\n",
        "    \r\n",
        "ctrl <- rpart.control(minsplit = 0, minbucket = 0)\r\n",
        "GolfTree <- rpart(PlaysGolf ~., data = mydf, control = ctrl)\r\n",
        "# 1) root 14 5 Yes (0.3571429 0.6428571)  \r\n",
        "#   2) Outlook=Rainy,Sunny 10 5 No (0.5000000 0.5000000)  \r\n",
        "#     4) Humidity=High 5 1 No (0.8000000 0.2000000)  \r\n",
        "#       8) Outlook=Rainy 3 0 No (1.0000000 0.0000000) *\r\n",
        "#       9) Outlook=Sunny 2 1 No (0.5000000 0.5000000)  \r\n",
        "#         18) Windy=True 1 0 No (1.0000000 0.0000000) *\r\n",
        "#         19) Windy=False 1 0 Yes (0.0000000 1.0000000) *\r\n",
        "#     5) Humidity=Normal 5 1 Yes (0.2000000 0.8000000)  \r\n",
        "#       10) Windy=True 2 1 No (0.5000000 0.5000000)  \r\n",
        "#         20) Outlook=Sunny 1 0 No (1.0000000 0.0000000) *\r\n",
        "#         21) Outlook=Rainy 1 0 Yes (0.0000000 1.0000000) *\r\n",
        "#       11) Windy=False 3 0 Yes (0.0000000 1.0000000) *\r\n",
        "#   3) Outlook=Overcast 4 0 Yes (0.0000000 1.0000000) *\r\n",
        "GolfTree"
      ],
      "execution_count": 13,
      "outputs": [
        {
          "output_type": "display_data",
          "data": {
            "text/plain": [
              "n= 14 \n",
              "\n",
              "node), split, n, loss, yval, (yprob)\n",
              "      * denotes terminal node\n",
              "\n",
              " 1) root 14 5 Yes (0.3571429 0.6428571)  \n",
              "   2) Outlook=Rainy,Sunny 10 5 No (0.5000000 0.5000000)  \n",
              "     4) Humidity=High 5 1 No (0.8000000 0.2000000)  \n",
              "       8) Outlook=Rainy 3 0 No (1.0000000 0.0000000) *\n",
              "       9) Outlook=Sunny 2 1 No (0.5000000 0.5000000)  \n",
              "        18) Windy=True 1 0 No (1.0000000 0.0000000) *\n",
              "        19) Windy=False 1 0 Yes (0.0000000 1.0000000) *\n",
              "     5) Humidity=Normal 5 1 Yes (0.2000000 0.8000000)  \n",
              "      10) Windy=True 2 1 No (0.5000000 0.5000000)  \n",
              "        20) Outlook=Sunny 1 0 No (1.0000000 0.0000000) *\n",
              "        21) Outlook=Rainy 1 0 Yes (0.0000000 1.0000000) *\n",
              "      11) Windy=False 3 0 Yes (0.0000000 1.0000000) *\n",
              "   3) Outlook=Overcast 4 0 Yes (0.0000000 1.0000000) *"
            ]
          },
          "metadata": {
            "tags": []
          }
        }
      ]
    },
    {
      "cell_type": "code",
      "metadata": {
        "colab": {
          "base_uri": "https://localhost:8080/",
          "height": 437
        },
        "id": "Rh_LMsEdjymx",
        "outputId": "50e1177f-0387-4888-fc51-fd9c8d275d9f"
      },
      "source": [
        "par(xpd = TRUE) #enable things to be drawn outside the plot region\r\n",
        "plot(GolfTree, compress = TRUE)\r\n",
        "text(GolfTree, use.n = TRUE)"
      ],
      "execution_count": 14,
      "outputs": [
        {
          "output_type": "display_data",
          "data": {
            "image/png": "[encoded data removed]",
            "text/plain": [
              "plot without title"
            ]
          },
          "metadata": {
            "tags": [],
            "image/png": {
              "width": 420,
              "height": 420
            }
          }
        }
      ]
    }
  ]
}